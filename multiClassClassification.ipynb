{
 "cells": [
  {
   "cell_type": "markdown",
   "metadata": {
    "colab_type": "text",
    "id": "slpTR7MaTEv8"
   },
   "source": [
    "# <strong>Multi Class Classification Using Keras:</strong>"
   ]
  },
  {
   "cell_type": "code",
   "execution_count": 0,
   "metadata": {
    "colab": {
     "base_uri": "https://localhost:8080/",
     "height": 52
    },
    "colab_type": "code",
    "executionInfo": {
     "elapsed": 1155,
     "status": "ok",
     "timestamp": 1566128680313,
     "user": {
      "displayName": "Aaron ville",
      "photoUrl": "",
      "userId": "15937558240248680773"
     },
     "user_tz": -330
    },
    "id": "K-35xeAaXeQd",
    "outputId": "3560dd8a-b897-4fc0-db70-10a3c7d4fd20"
   },
   "outputs": [
    {
     "name": "stdout",
     "output_type": "stream",
     "text": [
      "Drive already mounted at /gdrive; to attempt to forcibly remount, call drive.mount(\"/gdrive\", force_remount=True).\n",
      "/gdrive\n"
     ]
    }
   ],
   "source": [
    "# Mount Google Drive\n",
    "from google.colab import drive\n",
    "drive.mount('/gdrive')\n",
    "%cd /gdrive"
   ]
  },
  {
   "cell_type": "code",
   "execution_count": 0,
   "metadata": {
    "colab": {
     "base_uri": "https://localhost:8080/",
     "height": 54
    },
    "colab_type": "code",
    "executionInfo": {
     "elapsed": 1047,
     "status": "ok",
     "timestamp": 1566128606243,
     "user": {
      "displayName": "Aaron ville",
      "photoUrl": "",
      "userId": "15937558240248680773"
     },
     "user_tz": -330
    },
    "id": "FAfvXsozTBTu",
    "outputId": "729f62a4-f62b-491b-8fb2-9b6331350a7e"
   },
   "outputs": [
    {
     "data": {
      "text/plain": [
       "'\\nDataset/\\n\\n        train/\\n        \\n              category 1/\\n              \\n                       img1.png\\n                       img2.png\\n                       ...\\n                       \\n              category 2/\\n              \\n                       img1.png\\n                       img2.png\\n                       ...\\n                \\n              category 3/\\n              \\n                       img1.png\\n                       img2.png\\n                       ...\\n                       \\n              category 4/\\n              \\n                       img1.png\\n                       img2.png\\n                       ...\\n\\n         test/\\n         \\n              category 1/\\n              \\n                       img1.png\\n                       img2.png\\n                       ...\\n                       \\n              category 2/\\n              \\n                       img1.png\\n                       img2.png\\n                       ...\\n                \\n              category 3/\\n              \\n                       img1.png\\n                       img2.png\\n                       ...\\n                       \\n              category 4/\\n              \\n                       img1.png\\n                       img2.png\\n                       ...   \\n                                      \\n'"
      ]
     },
     "execution_count": 2,
     "metadata": {
      "tags": []
     },
     "output_type": "execute_result"
    }
   ],
   "source": [
    "# Directory Structure:\n",
    "\n",
    "'''\n",
    "Dataset/\n",
    "\n",
    "        train/\n",
    "        \n",
    "              category 1/\n",
    "              \n",
    "                       img1.png\n",
    "                       img2.png\n",
    "                       ...\n",
    "                       \n",
    "              category 2/\n",
    "              \n",
    "                       img1.png\n",
    "                       img2.png\n",
    "                       ...\n",
    "                \n",
    "              category 3/\n",
    "              \n",
    "                       img1.png\n",
    "                       img2.png\n",
    "                       ...\n",
    "                       \n",
    "              category 4/\n",
    "              \n",
    "                       img1.png\n",
    "                       img2.png\n",
    "                       ...\n",
    "\n",
    "         test/\n",
    "         \n",
    "              category 1/\n",
    "              \n",
    "                       img1.png\n",
    "                       img2.png\n",
    "                       ...\n",
    "                       \n",
    "              category 2/\n",
    "              \n",
    "                       img1.png\n",
    "                       img2.png\n",
    "                       ...\n",
    "                \n",
    "              category 3/\n",
    "              \n",
    "                       img1.png\n",
    "                       img2.png\n",
    "                       ...\n",
    "                       \n",
    "              category 4/\n",
    "              \n",
    "                       img1.png\n",
    "                       img2.png\n",
    "                       ...   \n",
    "                                      \n",
    "'''\n",
    "\n",
    "# Total samples in train set : 440 [Categories: 102, 107, 112, 119]\n",
    "# Total samples in test set  : 30  [Categories: 5, 9, 11, 5]"
   ]
  },
  {
   "cell_type": "code",
   "execution_count": 0,
   "metadata": {
    "colab": {
     "base_uri": "https://localhost:8080/",
     "height": 34
    },
    "colab_type": "code",
    "executionInfo": {
     "elapsed": 2604,
     "status": "ok",
     "timestamp": 1566128688783,
     "user": {
      "displayName": "Aaron ville",
      "photoUrl": "",
      "userId": "15937558240248680773"
     },
     "user_tz": -330
    },
    "id": "7_nGRqN-XYNA",
    "outputId": "8ef11574-aa52-4007-9808-2a95fa1bb9de"
   },
   "outputs": [
    {
     "name": "stderr",
     "output_type": "stream",
     "text": [
      "Using TensorFlow backend.\n"
     ]
    }
   ],
   "source": [
    "# Import packages\n",
    "from keras.preprocessing.image import ImageDataGenerator\n",
    "from keras.models import Sequential\n",
    "from keras.layers import Dropout, Flatten, Dense\n",
    "from keras import applications\n",
    "from keras.utils.np_utils import to_categorical\n",
    "import matplotlib.pyplot as plt\n",
    "import numpy as np\n",
    "import os\n",
    "import warnings\n",
    "warnings.filterwarnings('ignore')\n"
   ]
  },
  {
   "cell_type": "code",
   "execution_count": 0,
   "metadata": {
    "colab": {
     "base_uri": "https://localhost:8080/",
     "height": 52
    },
    "colab_type": "code",
    "executionInfo": {
     "elapsed": 904,
     "status": "ok",
     "timestamp": 1566128690105,
     "user": {
      "displayName": "Aaron ville",
      "photoUrl": "",
      "userId": "15937558240248680773"
     },
     "user_tz": -330
    },
    "id": "KVPBfLyMX8pT",
    "outputId": "c6969f4b-920f-424b-a25c-3c5f677ec35e"
   },
   "outputs": [
    {
     "name": "stdout",
     "output_type": "stream",
     "text": [
      "440\n",
      "30\n"
     ]
    }
   ],
   "source": [
    "# Print number of images present in Train and Test set\n",
    "train_images_count = len(os.listdir('./My Drive/Busigence/Image_2/Input/Dataset/train/category 1')) + \\\n",
    "                     len(os.listdir('./My Drive/Busigence/Image_2/Input/Dataset/train/category 2')) + \\\n",
    "                     len(os.listdir('./My Drive/Busigence/Image_2/Input/Dataset/train/category 3')) + \\\n",
    "                     len(os.listdir('./My Drive/Busigence/Image_2/Input/Dataset/train/category 4'))\n",
    "\n",
    "test_images_count = len(os.listdir('./My Drive/Busigence/Image_2/Input/Dataset/test/category 1')) + \\\n",
    "                    len(os.listdir('./My Drive/Busigence/Image_2/Input/Dataset/test/category 2')) + \\\n",
    "                    len(os.listdir('./My Drive/Busigence/Image_2/Input/Dataset/test/category 3')) + \\\n",
    "                    len(os.listdir('./My Drive/Busigence/Image_2/Input/Dataset/test/category 4'))\n",
    "\n",
    "\n",
    "print(train_images_count)\n",
    "print(test_images_count)"
   ]
  },
  {
   "cell_type": "code",
   "execution_count": 0,
   "metadata": {
    "colab": {},
    "colab_type": "code",
    "id": "ib2AoWbQbLmc"
   },
   "outputs": [],
   "source": [
    "# dimensions of our images.\n",
    "img_width, img_height = 800, 800\n",
    "\n",
    "# Path to save the trained weights (model)\n",
    "top_model_weights_path = './Images/Output/bottleneck_fc_model.h5'\n",
    "\n",
    "# Path to train and test directories\n",
    "train_data_dir = './Images/Input/Dataset/train'\n",
    "validation_data_dir = './Images/Input/Dataset/test'\n",
    "\n",
    "# Number of train and test images in the dataset\n",
    "nb_train_samples = train_images_count\n",
    "nb_validation_samples = test_images_count\n",
    "epochs = 50\n",
    "batch_size = 10\n",
    "\n",
    "train_categories_sample_size = [102, 107, 112, 119]\n",
    "test_categories_sample_size = [5, 9, 11, 5]\n",
    "one_hot_val = [0,1,2,3]"
   ]
  },
  {
   "cell_type": "code",
   "execution_count": 0,
   "metadata": {
    "colab": {
     "base_uri": "https://localhost:8080/",
     "height": 332
    },
    "colab_type": "code",
    "executionInfo": {
     "elapsed": 109874,
     "status": "ok",
     "timestamp": 1566128803312,
     "user": {
      "displayName": "Aaron ville",
      "photoUrl": "",
      "userId": "15937558240248680773"
     },
     "user_tz": -330
    },
    "id": "q9F5GaFib5an",
    "outputId": "8d2affe9-c222-452a-8d16-f9a54472f433"
   },
   "outputs": [
    {
     "name": "stderr",
     "output_type": "stream",
     "text": [
      "WARNING: Logging before flag parsing goes to stderr.\n",
      "W0818 11:44:54.149414 139929989732224 deprecation_wrapper.py:119] From /usr/local/lib/python3.6/dist-packages/keras/backend/tensorflow_backend.py:74: The name tf.get_default_graph is deprecated. Please use tf.compat.v1.get_default_graph instead.\n",
      "\n",
      "W0818 11:44:54.172227 139929989732224 deprecation_wrapper.py:119] From /usr/local/lib/python3.6/dist-packages/keras/backend/tensorflow_backend.py:517: The name tf.placeholder is deprecated. Please use tf.compat.v1.placeholder instead.\n",
      "\n",
      "W0818 11:44:54.175867 139929989732224 deprecation_wrapper.py:119] From /usr/local/lib/python3.6/dist-packages/keras/backend/tensorflow_backend.py:4138: The name tf.random_uniform is deprecated. Please use tf.random.uniform instead.\n",
      "\n",
      "W0818 11:44:54.209740 139929989732224 deprecation_wrapper.py:119] From /usr/local/lib/python3.6/dist-packages/keras/backend/tensorflow_backend.py:3976: The name tf.nn.max_pool is deprecated. Please use tf.nn.max_pool2d instead.\n",
      "\n",
      "W0818 11:44:54.487055 139929989732224 deprecation_wrapper.py:119] From /usr/local/lib/python3.6/dist-packages/keras/backend/tensorflow_backend.py:2741: The name tf.Session is deprecated. Please use tf.compat.v1.Session instead.\n",
      "\n"
     ]
    },
    {
     "name": "stdout",
     "output_type": "stream",
     "text": [
      "Found 440 images belonging to 4 classes.\n"
     ]
    },
    {
     "name": "stderr",
     "output_type": "stream",
     "text": [
      "W0818 11:44:54.775104 139929989732224 deprecation_wrapper.py:119] From /usr/local/lib/python3.6/dist-packages/keras/backend/tensorflow_backend.py:174: The name tf.get_default_session is deprecated. Please use tf.compat.v1.get_default_session instead.\n",
      "\n"
     ]
    },
    {
     "name": "stdout",
     "output_type": "stream",
     "text": [
      "Saved training images as .npy files\n",
      "Found 30 images belonging to 4 classes.\n",
      "Saved testing images as .npy files\n"
     ]
    }
   ],
   "source": [
    "# Function to convert and save train and test images to numpy arrays\n",
    "def save_bottleneck_features():\n",
    "    datagen = ImageDataGenerator(rescale=1. / 255)\n",
    "\n",
    "    # build the VGG16 network\n",
    "    model = applications.VGG16(include_top=False, weights=None)\n",
    "\n",
    "    generator = datagen.flow_from_directory(\n",
    "        train_data_dir,\n",
    "        target_size=(img_width, img_height),\n",
    "        batch_size=batch_size,\n",
    "        class_mode=None,\n",
    "        shuffle=False)\n",
    "    \n",
    "    bottleneck_features_train = model.predict_generator(\n",
    "                                generator, nb_train_samples // batch_size)\n",
    "    \n",
    "    np.save(open('./Images/Output/bottleneck_features_train.npy', 'wb'), bottleneck_features_train)\n",
    "    print(\"Saved training images as .npy files\")\n",
    "    \n",
    "    generator = datagen.flow_from_directory(\n",
    "        validation_data_dir,\n",
    "        target_size=(img_width, img_height),\n",
    "        batch_size=batch_size,\n",
    "        class_mode=None,\n",
    "        shuffle=False)\n",
    "    bottleneck_features_validation = model.predict_generator(\n",
    "                                     generator, nb_validation_samples // batch_size)\n",
    "    np.save(open('./Images/Output/bottleneck_features_validation.npy', 'wb'), bottleneck_features_validation)\n",
    "    print(\"Saved testing images as .npy files\")\n",
    "    \n",
    "save_bottleneck_features()"
   ]
  },
  {
   "cell_type": "code",
   "execution_count": 0,
   "metadata": {
    "colab": {
     "base_uri": "https://localhost:8080/",
     "height": 436
    },
    "colab_type": "code",
    "executionInfo": {
     "elapsed": 2150,
     "status": "ok",
     "timestamp": 1566128821808,
     "user": {
      "displayName": "Aaron ville",
      "photoUrl": "",
      "userId": "15937558240248680773"
     },
     "user_tz": -330
    },
    "id": "1xvIuVQnc7kF",
    "outputId": "c54cc46d-640c-42b4-98e8-fbaeb652c6cd"
   },
   "outputs": [
    {
     "name": "stderr",
     "output_type": "stream",
     "text": [
      "W0818 11:47:00.952584 139929989732224 deprecation.py:506] From /usr/local/lib/python3.6/dist-packages/keras/backend/tensorflow_backend.py:3445: calling dropout (from tensorflow.python.ops.nn_ops) with keep_prob is deprecated and will be removed in a future version.\n",
      "Instructions for updating:\n",
      "Please use `rate` instead of `keep_prob`. Rate should be set to `rate = 1 - keep_prob`.\n",
      "W0818 11:47:00.985032 139929989732224 deprecation_wrapper.py:119] From /usr/local/lib/python3.6/dist-packages/keras/optimizers.py:790: The name tf.train.Optimizer is deprecated. Please use tf.compat.v1.train.Optimizer instead.\n",
      "\n",
      "W0818 11:47:01.079891 139929989732224 deprecation.py:323] From /usr/local/lib/python3.6/dist-packages/tensorflow/python/ops/nn_impl.py:180: add_dispatch_support.<locals>.wrapper (from tensorflow.python.ops.array_ops) is deprecated and will be removed in a future version.\n",
      "Instructions for updating:\n",
      "Use tf.where in 2.0, which has the same broadcast rule as np.where\n"
     ]
    },
    {
     "name": "stdout",
     "output_type": "stream",
     "text": [
      "_________________________________________________________________\n",
      "Layer (type)                 Output Shape              Param #   \n",
      "=================================================================\n",
      "flatten_1 (Flatten)          (None, 320000)            0         \n",
      "_________________________________________________________________\n",
      "dense_1 (Dense)              (None, 256)               81920256  \n",
      "_________________________________________________________________\n",
      "dropout_1 (Dropout)          (None, 256)               0         \n",
      "_________________________________________________________________\n",
      "dense_2 (Dense)              (None, 4)                 1028      \n",
      "=================================================================\n",
      "Total params: 81,921,284\n",
      "Trainable params: 81,921,284\n",
      "Non-trainable params: 0\n",
      "_________________________________________________________________\n"
     ]
    }
   ],
   "source": [
    "# Encoding train and test labels\n",
    "train_labels_encode, test_labels_encode = [],  []\n",
    "for i in range(len(one_hot_val)):\n",
    "    train_labels_encode.extend([one_hot_val[i]] * train_categories_sample_size[i])\n",
    "    test_labels_encode.extend([one_hot_val[i]] * test_categories_sample_size[i])\n",
    "train_labels_encode = to_categorical(train_labels_encode)\n",
    "test_labels_encode = to_categorical(test_labels_encode)\n",
    "\n",
    "# Load numpy values of train set\n",
    "train_data = np.load(open('./Images/Output/bottleneck_features_train.npy', 'rb'))\n",
    "train_labels = train_labels_encode\n",
    "\n",
    "# Load numpy values of test set\n",
    "validation_data = np.load(open('./Images/Output/bottleneck_features_validation.npy', 'rb'))\n",
    "validation_labels = test_labels_encode\n",
    "\n",
    "# Declare a sequential model\n",
    "model = Sequential()\n",
    "model.add(Flatten(input_shape=train_data.shape[1:]))\n",
    "model.add(Dense(256, activation='relu'))\n",
    "model.add(Dropout(0.5))\n",
    "model.add(Dense(4, activation='sigmoid'))\n",
    "\n",
    "model.compile(optimizer='adam',\n",
    "              loss='categorical_crossentropy', metrics=['accuracy'])\n",
    "\n",
    "# Summary of the model\n",
    "model.summary()"
   ]
  },
  {
   "cell_type": "code",
   "execution_count": 0,
   "metadata": {
    "colab": {
     "base_uri": "https://localhost:8080/",
     "height": 1000
    },
    "colab_type": "code",
    "executionInfo": {
     "elapsed": 209910,
     "status": "ok",
     "timestamp": 1566129070064,
     "user": {
      "displayName": "Aaron ville",
      "photoUrl": "",
      "userId": "15937558240248680773"
     },
     "user_tz": -330
    },
    "id": "LPKTKFRxhp2P",
    "outputId": "9e57ba3a-c4a1-429f-bd46-ef2343879fb0"
   },
   "outputs": [
    {
     "name": "stdout",
     "output_type": "stream",
     "text": [
      "Train on 440 samples, validate on 30 samples\n",
      "Epoch 1/50\n",
      "440/440 [==============================] - 5s 12ms/step - loss: 0.5338 - acc: 0.7466 - val_loss: 0.4350 - val_acc: 0.7667\n",
      "Epoch 2/50\n",
      "440/440 [==============================] - 4s 9ms/step - loss: 0.4118 - acc: 0.8040 - val_loss: 0.3382 - val_acc: 0.9000\n",
      "Epoch 3/50\n",
      "440/440 [==============================] - 4s 9ms/step - loss: 0.3464 - acc: 0.8545 - val_loss: 0.2893 - val_acc: 0.8833\n",
      "Epoch 4/50\n",
      "440/440 [==============================] - 4s 9ms/step - loss: 0.3147 - acc: 0.8710 - val_loss: 0.2411 - val_acc: 0.9000\n",
      "Epoch 5/50\n",
      "440/440 [==============================] - 4s 9ms/step - loss: 0.2725 - acc: 0.8932 - val_loss: 0.1786 - val_acc: 0.9833\n",
      "Epoch 6/50\n",
      "440/440 [==============================] - 4s 9ms/step - loss: 0.2314 - acc: 0.9159 - val_loss: 0.1417 - val_acc: 1.0000\n",
      "Epoch 7/50\n",
      "440/440 [==============================] - 4s 9ms/step - loss: 0.2138 - acc: 0.9216 - val_loss: 0.1374 - val_acc: 0.9667\n",
      "Epoch 8/50\n",
      "440/440 [==============================] - 4s 9ms/step - loss: 0.2067 - acc: 0.9256 - val_loss: 0.0961 - val_acc: 1.0000\n",
      "Epoch 9/50\n",
      "440/440 [==============================] - 4s 9ms/step - loss: 0.1877 - acc: 0.9318 - val_loss: 0.1275 - val_acc: 0.9583\n",
      "Epoch 10/50\n",
      "440/440 [==============================] - 4s 9ms/step - loss: 0.1751 - acc: 0.9420 - val_loss: 0.0895 - val_acc: 1.0000\n",
      "Epoch 11/50\n",
      "440/440 [==============================] - 4s 9ms/step - loss: 0.1525 - acc: 0.9506 - val_loss: 0.1130 - val_acc: 0.9750\n",
      "Epoch 12/50\n",
      "440/440 [==============================] - 4s 9ms/step - loss: 0.1458 - acc: 0.9477 - val_loss: 0.0900 - val_acc: 0.9917\n",
      "Epoch 13/50\n",
      "440/440 [==============================] - 4s 9ms/step - loss: 0.1320 - acc: 0.9580 - val_loss: 0.0520 - val_acc: 1.0000\n",
      "Epoch 14/50\n",
      "440/440 [==============================] - 4s 9ms/step - loss: 0.1181 - acc: 0.9631 - val_loss: 0.0496 - val_acc: 1.0000\n",
      "Epoch 15/50\n",
      "440/440 [==============================] - 4s 9ms/step - loss: 0.1224 - acc: 0.9540 - val_loss: 0.0501 - val_acc: 1.0000\n",
      "Epoch 16/50\n",
      "440/440 [==============================] - 4s 9ms/step - loss: 0.1028 - acc: 0.9653 - val_loss: 0.0519 - val_acc: 0.9917\n",
      "Epoch 17/50\n",
      "440/440 [==============================] - 4s 9ms/step - loss: 0.0942 - acc: 0.9699 - val_loss: 0.0410 - val_acc: 0.9917\n",
      "Epoch 18/50\n",
      "440/440 [==============================] - 4s 9ms/step - loss: 0.0906 - acc: 0.9710 - val_loss: 0.0396 - val_acc: 0.9917\n",
      "Epoch 19/50\n",
      "440/440 [==============================] - 4s 9ms/step - loss: 0.0897 - acc: 0.9687 - val_loss: 0.0471 - val_acc: 0.9833\n",
      "Epoch 20/50\n",
      "440/440 [==============================] - 4s 9ms/step - loss: 0.0794 - acc: 0.9778 - val_loss: 0.0438 - val_acc: 0.9833\n",
      "Epoch 21/50\n",
      "440/440 [==============================] - 4s 9ms/step - loss: 0.0772 - acc: 0.9756 - val_loss: 0.0339 - val_acc: 0.9833\n",
      "Epoch 22/50\n",
      "440/440 [==============================] - 4s 9ms/step - loss: 0.0686 - acc: 0.9750 - val_loss: 0.0283 - val_acc: 1.0000\n",
      "Epoch 23/50\n",
      "440/440 [==============================] - 4s 9ms/step - loss: 0.0607 - acc: 0.9835 - val_loss: 0.0509 - val_acc: 0.9917\n",
      "Epoch 24/50\n",
      "440/440 [==============================] - 4s 9ms/step - loss: 0.0665 - acc: 0.9784 - val_loss: 0.0490 - val_acc: 0.9750\n",
      "Epoch 25/50\n",
      "440/440 [==============================] - 4s 9ms/step - loss: 0.0575 - acc: 0.9858 - val_loss: 0.0126 - val_acc: 1.0000\n",
      "Epoch 26/50\n",
      "440/440 [==============================] - 4s 9ms/step - loss: 0.0480 - acc: 0.9852 - val_loss: 0.0159 - val_acc: 1.0000\n",
      "Epoch 27/50\n",
      "440/440 [==============================] - 4s 9ms/step - loss: 0.0542 - acc: 0.9801 - val_loss: 0.0155 - val_acc: 1.0000\n",
      "Epoch 28/50\n",
      "440/440 [==============================] - 4s 9ms/step - loss: 0.0470 - acc: 0.9830 - val_loss: 0.0185 - val_acc: 1.0000\n",
      "Epoch 29/50\n",
      "440/440 [==============================] - 4s 9ms/step - loss: 0.0461 - acc: 0.9881 - val_loss: 0.0118 - val_acc: 1.0000\n",
      "Epoch 30/50\n",
      "440/440 [==============================] - 4s 9ms/step - loss: 0.0383 - acc: 0.9875 - val_loss: 0.0137 - val_acc: 1.0000\n",
      "Epoch 31/50\n",
      "440/440 [==============================] - 4s 9ms/step - loss: 0.0381 - acc: 0.9909 - val_loss: 0.0091 - val_acc: 1.0000\n",
      "Epoch 32/50\n",
      "440/440 [==============================] - 4s 9ms/step - loss: 0.0390 - acc: 0.9869 - val_loss: 0.0242 - val_acc: 0.9833\n",
      "Epoch 33/50\n",
      "440/440 [==============================] - 4s 9ms/step - loss: 0.0348 - acc: 0.9898 - val_loss: 0.0135 - val_acc: 1.0000\n",
      "Epoch 34/50\n",
      "440/440 [==============================] - 4s 9ms/step - loss: 0.0324 - acc: 0.9898 - val_loss: 0.0093 - val_acc: 1.0000\n",
      "Epoch 35/50\n",
      "440/440 [==============================] - 4s 9ms/step - loss: 0.0372 - acc: 0.9886 - val_loss: 0.0226 - val_acc: 0.9917\n",
      "Epoch 36/50\n",
      "440/440 [==============================] - 4s 9ms/step - loss: 0.0285 - acc: 0.9881 - val_loss: 0.0161 - val_acc: 1.0000\n",
      "Epoch 37/50\n",
      "440/440 [==============================] - 4s 9ms/step - loss: 0.0337 - acc: 0.9875 - val_loss: 0.0128 - val_acc: 1.0000\n",
      "Epoch 38/50\n",
      "440/440 [==============================] - 4s 9ms/step - loss: 0.0280 - acc: 0.9903 - val_loss: 0.0090 - val_acc: 1.0000\n",
      "Epoch 39/50\n",
      "440/440 [==============================] - 4s 9ms/step - loss: 0.0259 - acc: 0.9920 - val_loss: 0.0062 - val_acc: 1.0000\n",
      "Epoch 40/50\n",
      "440/440 [==============================] - 4s 9ms/step - loss: 0.0236 - acc: 0.9938 - val_loss: 0.0074 - val_acc: 1.0000\n",
      "Epoch 41/50\n",
      "440/440 [==============================] - 4s 9ms/step - loss: 0.0275 - acc: 0.9909 - val_loss: 0.0106 - val_acc: 1.0000\n",
      "Epoch 42/50\n",
      "440/440 [==============================] - 4s 9ms/step - loss: 0.0273 - acc: 0.9903 - val_loss: 0.0066 - val_acc: 1.0000\n",
      "Epoch 43/50\n",
      "440/440 [==============================] - 4s 9ms/step - loss: 0.0193 - acc: 0.9955 - val_loss: 0.0081 - val_acc: 1.0000\n",
      "Epoch 44/50\n",
      "440/440 [==============================] - 4s 9ms/step - loss: 0.0193 - acc: 0.9932 - val_loss: 0.0093 - val_acc: 1.0000\n",
      "Epoch 45/50\n",
      "440/440 [==============================] - 4s 9ms/step - loss: 0.0167 - acc: 0.9955 - val_loss: 0.0068 - val_acc: 1.0000\n",
      "Epoch 46/50\n",
      "440/440 [==============================] - 4s 9ms/step - loss: 0.0182 - acc: 0.9960 - val_loss: 0.0064 - val_acc: 1.0000\n",
      "Epoch 47/50\n",
      "440/440 [==============================] - 4s 9ms/step - loss: 0.0197 - acc: 0.9955 - val_loss: 0.0050 - val_acc: 1.0000\n",
      "Epoch 48/50\n",
      "440/440 [==============================] - 4s 9ms/step - loss: 0.0207 - acc: 0.9915 - val_loss: 0.0064 - val_acc: 1.0000\n",
      "Epoch 49/50\n",
      "440/440 [==============================] - 4s 9ms/step - loss: 0.0172 - acc: 0.9949 - val_loss: 0.0194 - val_acc: 1.0000\n",
      "Epoch 50/50\n",
      "440/440 [==============================] - 4s 9ms/step - loss: 0.0210 - acc: 0.9932 - val_loss: 0.0246 - val_acc: 0.9833\n"
     ]
    }
   ],
   "source": [
    "# Model training\n",
    "history = model.fit(train_data, train_labels,\n",
    "          epochs=epochs,\n",
    "          batch_size=batch_size,\n",
    "          validation_data=(validation_data, validation_labels))\n",
    "model.save_weights(top_model_weights_path)"
   ]
  },
  {
   "cell_type": "code",
   "execution_count": 0,
   "metadata": {
    "colab": {
     "base_uri": "https://localhost:8080/",
     "height": 573
    },
    "colab_type": "code",
    "executionInfo": {
     "elapsed": 1507,
     "status": "ok",
     "timestamp": 1566129074064,
     "user": {
      "displayName": "Aaron ville",
      "photoUrl": "",
      "userId": "15937558240248680773"
     },
     "user_tz": -330
    },
    "id": "TBjdF8ezdeQ9",
    "outputId": "8d4da64e-1ef0-41a7-e5b0-d352150e83f5"
   },
   "outputs": [
    {
     "data": {
      "image/png": "[encoded data removed]",
      "text/plain": [
       "<Figure size 432x288 with 1 Axes>"
      ]
     },
     "metadata": {
      "tags": []
     },
     "output_type": "display_data"
    },
    {
     "data": {
      "image/png": "[encoded data removed]",
      "text/plain": [
       "<Figure size 432x288 with 1 Axes>"
      ]
     },
     "metadata": {
      "tags": []
     },
     "output_type": "display_data"
    }
   ],
   "source": [
    "#  \"Accuracy\"\n",
    "plt.plot(history.history['acc'])\n",
    "plt.plot(history.history['val_acc'])\n",
    "plt.title('model accuracy')\n",
    "plt.ylabel('accuracy')\n",
    "plt.xlabel('epoch')\n",
    "plt.legend(['train', 'test'], loc='upper left')\n",
    "plt.show()\n",
    "# \"Loss\"\n",
    "plt.plot(history.history['loss'])\n",
    "plt.plot(history.history['val_loss'])\n",
    "plt.title('model loss')\n",
    "plt.ylabel('loss')\n",
    "plt.xlabel('epoch')\n",
    "plt.legend(['train', 'test'], loc='upper left')\n",
    "plt.show()"
   ]
  },
  {
   "cell_type": "markdown",
   "metadata": {
    "colab_type": "text",
    "id": "wN4PKzDlkx8f"
   },
   "source": [
    "## Summary\n",
    "<ul>\n",
    "  <li> A dataset was provided in the <strong>Input </strong> directory where there are 440 images provided for training and 30 images for testing.</li>\n",
    "  <li> For building a CNN image classifier on top of the dataset, transfer learning was applied using <strong>VGG16</strong> architecture as its was proven to yeild high accuracies in image classification. </li>\n",
    "  <li>Perfomance of the model was found to be impressive on both train and test sets.  </li>\n",
    "  <li> Model performance on test set was found to be more when compared to training set, which is a pretty impressive case."
   ]
  }
 ],
 "metadata": {
  "accelerator": "GPU",
  "colab": {
   "collapsed_sections": [],
   "name": "Assignment_1.ipynb",
   "provenance": [
    {
     "file_id": "1X9wzs66bILqbCpF1ZLXZYp2ECc_tXlKh",
     "timestamp": 1566047476756
    }
   ],
   "version": "0.3.2"
  },
  "kernelspec": {
   "display_name": "Python 3",
   "language": "python",
   "name": "python3"
  },
  "language_info": {
   "codemirror_mode": {
    "name": "ipython",
    "version": 3
   },
   "file_extension": ".py",
   "mimetype": "text/x-python",
   "name": "python",
   "nbconvert_exporter": "python",
   "pygments_lexer": "ipython3",
   "version": "3.7.3"
  }
 },
 "nbformat": 4,
 "nbformat_minor": 1
}
